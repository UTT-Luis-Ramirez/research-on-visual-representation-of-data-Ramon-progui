{
 "cells": [
  {
   "cell_type": "markdown",
   "metadata": {},
   "source": [
    "Histograma\n",
    "\n",
    "Un histograma es un gráfico de barras verticales que muestra la distribución de un conjunto de datos, visualizando cuántos valores se encuentran dentro de ciertos intérvalos.\n",
    "\n",
    "Estos se crean al recoílar datos, diviendo de los datos en intérvalos conocidos como \"bins\", posteriormente contar la cantidad de datos que caen en cada intérvalo y dibujar un gráfico de barras donde cada una representa un intérvalo y su altura indica la frecuencia de datos en ese intérvalo.\n",
    "\n",
    "Dentro de sus funcionalidades pueden servir para visualizar la distribución de datos, Identificar patrones como la tendencia central o ayuda en la comprensión de la variabilidad. Y ya aplicándolo en un contexto de uso puede hacer análisis estadísticos, investigación científica, etc."
   ]
  },
  {
   "cell_type": "markdown",
   "metadata": {},
   "source": [
    "Diagrama de Tallo y Hoja\n",
    "\n",
    "Un diagrama de tallo y hoja es una forma de representar datos numéricos de manera que se conserve la información original y se pueda observar la distribución de los datos.\n",
    "\n",
    "Se crea al ordenar los datos de forma ascendente, dividiendo cada número en dos partes: el \"tallo\" (todos los dígitos excepto el último) y la \"hoja\" (el último dígito), finalmente se lista los tallos en una columna y coloca las hojas correspondientes al lado de cada tallo.\n",
    "\n",
    "Este facilita la identificación de la tendencia central, la dispersión y la forma de distribución."
   ]
  },
  {
   "cell_type": "markdown",
   "metadata": {},
   "source": [
    "Diagrama de Caja\n",
    "\n",
    "Un diagrama de cajam también conocido como boxplot, es una representación gráfica que muestra la distribución de datos a través de sus cuartiles, destacando la mediana, los cuartiles y los valores atípicos.\n",
    "\n",
    "Este se crea organizando los datos de forma:\n",
    "Mínimo (el valor más pequeño, excluyendo outliers)\n",
    "Primer cuartil (Q1, el 25% inferior de los datos)\n",
    "Mediana (Q2, el 50% de los datos)\n",
    "Tercer cuartil (Q3, el 75% de los datos)\n",
    "Máximo (el valor más alto, excluyendo outliers)\n",
    "\n",
    "Dibujar una caja desde Q1 hasta Q3, añadiendo una linea en la caja para indicar la mediana, dibujar \"bigotes\" desde la caja hasta el minímo y máximo e identificar los valores atípicos con puntos individuales.\n",
    "\n",
    "Este muestra la mediana, la dispersión y los valores atípicos de los datos, siendo útil para resumir y describir las caracteríticas principales de un conjunto de datos, comparar distribuciones entre varios grupos, etc."
   ]
  }
 ],
 "metadata": {
  "kernelspec": {
   "display_name": "Python 3",
   "language": "python",
   "name": "python3"
  },
  "language_info": {
   "codemirror_mode": {
    "name": "ipython",
    "version": 3
   },
   "file_extension": ".py",
   "mimetype": "text/x-python",
   "name": "python",
   "nbconvert_exporter": "python",
   "pygments_lexer": "ipython3",
   "version": "3.13.1"
  }
 },
 "nbformat": 4,
 "nbformat_minor": 2
}
